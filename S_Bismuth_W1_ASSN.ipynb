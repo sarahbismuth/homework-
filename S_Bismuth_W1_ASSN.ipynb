{
 "cells": [
  {
   "cell_type": "markdown",
   "metadata": {},
   "source": [
    "# Notes"
   ]
  },
  {
   "cell_type": "markdown",
   "metadata": {},
   "source": [
    "Data source:https://www.kaggle.com/dgomonov/new-york-city-airbnb-open-data/downloads/new-york-city-airbnb-open-data.zip/3\n",
    "        \n",
    "The data contains part of NYC airbnb information. More specifically, it contains information of neighborhood, rent price, number of reviews, avaliabilty, etc.\n",
    "\n",
    "We can try to look into the data and see:\n",
    "    - What is the structure of housing price?\n",
    "    - What kind of house/apartment get more reviews?\n",
    "\n",
    "Hopefully this can give us some insight about what is important in the aribnb business.\n",
    "    \n",
    "    "
   ]
  },
  {
   "cell_type": "code",
   "execution_count": null,
   "metadata": {},
   "outputs": [],
   "source": []
  }
 ],
 "metadata": {
  "kernelspec": {
   "display_name": "Python 3",
   "language": "python",
   "name": "python3"
  },
  "language_info": {
   "codemirror_mode": {
    "name": "ipython",
    "version": 3
   },
   "file_extension": ".py",
   "mimetype": "text/x-python",
   "name": "python",
   "nbconvert_exporter": "python",
   "pygments_lexer": "ipython3",
   "version": "3.7.1"
  }
 },
 "nbformat": 4,
 "nbformat_minor": 2
}
